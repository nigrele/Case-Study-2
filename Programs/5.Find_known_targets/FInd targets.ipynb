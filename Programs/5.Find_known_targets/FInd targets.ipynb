{
 "cells": [
  {
   "cell_type": "code",
   "execution_count": 41,
   "metadata": {},
   "outputs": [],
   "source": [
    "from opentargets import OpenTargetsClient\n",
    "ot = OpenTargetsClient()"
   ]
  },
  {
   "cell_type": "markdown",
   "metadata": {},
   "source": [
    "# Find genes with a known drug"
   ]
  },
  {
   "cell_type": "markdown",
   "metadata": {},
   "source": [
    "Open file with filtered genes, then query OpenTargets and select target genes"
   ]
  },
  {
   "cell_type": "code",
   "execution_count": 28,
   "metadata": {},
   "outputs": [],
   "source": [
    "with open(\"./Geni_OpenTarget_max100_min5_step1.txt\", \"r\") as fin:\n",
    "    genes = [line.strip() for line in fin]"
   ]
  },
  {
   "cell_type": "code",
   "execution_count": 29,
   "metadata": {},
   "outputs": [],
   "source": [
    "results = []\n",
    "for gene in genes:\n",
    "    results.append(ot.search(gene)[0]['data']['drugs'])"
   ]
  },
  {
   "cell_type": "code",
   "execution_count": 38,
   "metadata": {},
   "outputs": [],
   "source": [
    "known_targets = [result != {u'evidence_data': []} for result in results]"
   ]
  },
  {
   "cell_type": "code",
   "execution_count": 43,
   "metadata": {},
   "outputs": [
    {
     "name": "stdout",
     "output_type": "stream",
     "text": [
      "217\n"
     ]
    }
   ],
   "source": [
    "print sum(known_targets)"
   ]
  },
  {
   "cell_type": "code",
   "execution_count": 44,
   "metadata": {},
   "outputs": [],
   "source": [
    "# remove duplicate targets\n",
    "dict_results = {}\n",
    "for i in range(len(genes)):\n",
    "    if genes[i] not in dict_results and known_targets[i] is True:\n",
    "        dict_results[genes[i]] = results[i]"
   ]
  },
  {
   "cell_type": "code",
   "execution_count": 46,
   "metadata": {},
   "outputs": [
    {
     "name": "stdout",
     "output_type": "stream",
     "text": [
      "151\n"
     ]
    }
   ],
   "source": [
    "print len(dict_results)"
   ]
  },
  {
   "cell_type": "code",
   "execution_count": 51,
   "metadata": {},
   "outputs": [],
   "source": [
    "out = []\n",
    "for gene in genes:\n",
    "    if gene in dict_results and gene not in out:\n",
    "        out.append(gene)\n",
    "\n",
    "with open(\"known_targets.txt\", \"w\") as fout:\n",
    "    for gene in out:\n",
    "        fout.write(\"{}\\n\".format(gene))"
   ]
  },
  {
   "cell_type": "code",
   "execution_count": 52,
   "metadata": {},
   "outputs": [
    {
     "name": "stdout",
     "output_type": "stream",
     "text": [
      "['NDUFA4L2', 'FN1', 'COL4A1', 'COL4A2', 'CTGF', 'F5', '\"SEBOX,p2\"', '\"SEBOX,p1\"', 'TGFB1', 'F2', 'TLR4', '\"SEBOX,p3\"', 'COL5A3', 'COL1A1', 'FGA', 'FOLR1', 'DHCR24', 'GLP2R', 'TNFRSF1A', 'AVPR1A', 'FGG', 'NAMPTL', 'SRD5A3', 'PDE4D', 'HAMP', 'RARA', 'NAMPT', 'JAK1', 'KCNJ2', 'FDPS', 'CPT2', 'LAMB3', 'PCSK9', 'FLT1', 'VEGFB', 'POLD1', 'IL1R1', 'XPNPEP2', 'NR1H3', 'NFE2L2', 'GBA', 'PLA2G2A', 'ACAT1', 'FDFT1', '\"HLA-DRB1,p7\"', 'IFNGR2', 'PLA2G7', 'CHEK2', 'ATP1B3', 'ANPEP', 'COL6A3', 'COL11A2', 'CDK16', 'PIM2', 'COL27A1', 'ALOX5', 'CD70', 'GSK3B', 'SLC29A1', 'PIM3', 'CSF1', 'CASP7', 'GAA', 'PDE4B', 'PTGS2', 'NCSTN', 'NDUFS2', 'TSG101', 'PLK1', 'NDUFB7', 'BCL2L1', 'IDH2', 'PSMA4', 'ENG', 'EPHA1', 'TNFRSF10B', 'CDK14', 'SRD5A1', 'FGFR4', 'TUBA1B', 'PIK3CG', 'GABBR1', 'PDE2A', 'MMP9', 'PSCA', 'CALM1', 'PDE8B', 'DNMT3A', 'IL6', 'EPHA2', 'PIK3CA', 'TNFRSF8', 'LTB4R', 'VDR', 'EEF2', 'SCN9A', 'PTH1R', 'P4HB', 'CFD', 'ARAF', 'SIGMAR1', 'IFNAR2', 'PRKCD', 'ABCA1', 'ERBB3', 'NR3C1', 'HGF', 'BIRC2', 'ERAP1', 'OPRL1', 'GSTP1', 'PRKACA', 'RAMP2', 'HSP90AA1', 'INSR', 'MAP3K9', 'TNFSF13', 'CASP8', 'CACNG4', 'NFE2', 'LTBR', 'EPHB6', 'GART', 'KCNH2', 'S1PR5', 'TUBB', 'KCNC3', 'FLT4', 'DHODH', 'FNTB', '\"TNFSF12-TNFSF13,p6\"', 'TGFB3', 'KCNH8', 'EGLN2', 'METAP2', 'LAMA2', 'NDUFA13', 'MAPKAPK5', 'CD276', 'HDAC5', 'DRD2', 'NTRK1', 'PIK3R3', 'MALT1', 'SLC6A9', 'HDAC6', 'PTGER4', 'KCNK10', 'CD44', 'P4HTM', 'MET']\n"
     ]
    }
   ],
   "source": [
    "print out"
   ]
  }
 ],
 "metadata": {
  "kernelspec": {
   "display_name": "Python 2",
   "language": "python",
   "name": "python2"
  },
  "language_info": {
   "codemirror_mode": {
    "name": "ipython",
    "version": 2
   },
   "file_extension": ".py",
   "mimetype": "text/x-python",
   "name": "python",
   "nbconvert_exporter": "python",
   "pygments_lexer": "ipython2",
   "version": "2.7.14"
  }
 },
 "nbformat": 4,
 "nbformat_minor": 2
}
